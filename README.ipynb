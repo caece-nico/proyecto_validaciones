{
 "cells": [
  {
   "attachments": {},
   "cell_type": "markdown",
   "metadata": {},
   "source": [
    "# Proyecto control de eventos\n",
    "\n",
    "Este proyecto simula un motor de controles sobre un atributo ejecutando procedimientos almacenados, funciones y codigo python para determinar si un registro pasa una validacion o no.\n",
    "Trabaja con sus propias tablas parametricas y tablas de datos.\n",
    " - Esta primera versión es batch\n",
    "\n",
    " + Se incluye:\n",
    "    - Estructura de directorios\n",
    "    - Contenidos de los DockerFiles\n",
    "        + postgres\n",
    "        + python\n",
    "    - Contenido de docker-compose.yaml\n"
   ]
  },
  {
   "attachments": {},
   "cell_type": "markdown",
   "metadata": {},
   "source": [
    "### [+] Estructura de directorios"
   ]
  },
  {
   "attachments": {},
   "cell_type": "markdown",
   "metadata": {},
   "source": [
    "- Proyecto\n",
    "    - Postgres\n",
    "        - readme\n",
    "        - Dockerfile\n",
    "    - Python\n",
    "        - src\n",
    "           - main.py\n",
    "        - readme\n",
    "        - Dockerfile\n",
    "        - requirements.txt\n",
    "    - docker-compose.yaml\n",
    "    - readme\n"
   ]
  },
  {
   "attachments": {},
   "cell_type": "markdown",
   "metadata": {},
   "source": [
    "### [+] Composición Dockerfile de Python\n",
    "\n",
    "**Se encuentra en /python**\n",
    "\n",
    "+ Contiene una imagen de python 3:9 \n",
    "+ Un directorio /code donde se copia toda la estructura de ./python/\n",
    "+ Se ejecuta el archivo requirements.txt\n",
    "\n",
    "####  Creacion de la imagen Docker y Contenedor\n",
    "\n",
    "1. \n",
    "\n",
    "    docker build -t python_prueba .\n",
    "\n",
    "2. \n",
    "\n",
    "    docker run -it \\\n",
    "    --name python_prueba_run \\\n",
    "    -v $(pwd):/code \\\n",
    "    python_prueba \n",
    "\n",
    "+ **Siempre mapear el volumen**"
   ]
  },
  {
   "attachments": {},
   "cell_type": "markdown",
   "metadata": {},
   "source": [
    "### [+] Composición Dockerfile de Postgres\n",
    "\n",
    "**Se encuentra en /postgres**\n",
    "\n",
    "+ Contiene una imagen de postgres\n",
    "+ Con la creacion de workdir /code\n",
    "+ la creacion de las variables de entorno\n",
    "    - En otra version estas variables de entorno se cambiaran por un archivo de configuracion"
   ]
  },
  {
   "attachments": {},
   "cell_type": "markdown",
   "metadata": {},
   "source": [
    "Creación de la imagen de Postgres y el contenedor\n",
    "\n",
    "1. \n",
    "\n",
    "    docker build -t postgres_img_2 .\n",
    "\n",
    "2.\n",
    "\n",
    "    docker run -it \\\n",
    "    --name postgres_run_2 \\\n",
    "    -p 5432:5432 postgres_img_2"
   ]
  },
  {
   "attachments": {},
   "cell_type": "markdown",
   "metadata": {},
   "source": [
    "### [+] Composición de Docker-compose.yaml\n",
    "\n",
    "**Se encuentra en ./**\n",
    "\n",
    "+ Contiene los servicios\n",
    "    1. Python\n",
    "    2. Postgres\n",
    "    3. La red \n",
    "        + red -> pypost_net\n",
    "    4. mapeo de puertos\n",
    "    5. volumenes\n",
    "        + python -> repositorio de codigo (code)\n",
    "        + postgres -> repositorio de bd (valome)\n",
    "    6. dependencia de inicio"
   ]
  },
  {
   "attachments": {},
   "cell_type": "markdown",
   "metadata": {},
   "source": [
    "version: '3.3'\n",
    "\n",
    "services:\n",
    "\n",
    "  pythonapp:\n",
    "\n",
    "    build: ./python/\n",
    "\n",
    "    container_name: python_motor_run\n",
    "\n",
    "    entrypoint: /bin/sh\n",
    "\n",
    "    stdin_open: true\n",
    "\n",
    "    volumes:\n",
    "      - ./python/:/code\n",
    "\n",
    "    depends_on:\n",
    "      - postgres\n",
    "\n",
    "  postgres:\n",
    "  \n",
    "    build: ./postgres/\n",
    "\n",
    "    container_name: postgres_motor_run\n",
    "\n",
    "    restart: always\n",
    "\n",
    "    ports:\n",
    "\n",
    "      - 5432:5432\n",
    "\n",
    "    volumes:\n",
    "  \n",
    "      - ./db/volume/:/var/lib/postgresql/data"
   ]
  },
  {
   "attachments": {},
   "cell_type": "markdown",
   "metadata": {},
   "source": [
    "## ¿Cómo levantar docker-compose?\n",
    "\n",
    "1. creamos el proyecto \n",
    "\n",
    "en el directorio del proyecto -> docker-compose build\n",
    "\n",
    "2. creamos los contendores\n",
    "\n",
    "en el directorio del proyecto -> docker-compose up\n",
    "\n",
    "3. Si necesitamos reiniciarlo.\n",
    "\n",
    "en el directorio del proyecto -> docker-compose down / start\n"
   ]
  }
 ],
 "metadata": {
  "language_info": {
   "name": "python"
  },
  "orig_nbformat": 4
 },
 "nbformat": 4,
 "nbformat_minor": 2
}
