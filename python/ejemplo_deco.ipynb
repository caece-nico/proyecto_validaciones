{
 "cells": [
  {
   "cell_type": "code",
   "execution_count": 1,
   "metadata": {},
   "outputs": [],
   "source": [
    "import time\n",
    "import psycopg2"
   ]
  },
  {
   "cell_type": "code",
   "execution_count": 2,
   "metadata": {},
   "outputs": [],
   "source": [
    "string_conn = psycopg2.connect(host='172.30.0.2', database='db_test', user='nico123', password='nico123', port=5432)\n",
    "conn_cur = string_conn.cursor()"
   ]
  },
  {
   "cell_type": "code",
   "execution_count": 29,
   "metadata": {},
   "outputs": [],
   "source": [
    "try:\n",
    "    conn_cur.execute(\"select * from public.ctr_workflow\")\n",
    "    final = conn_cur.fetchall()\n",
    "    print(final)\n",
    "except (Exception, psycopg2.DatabaseError) as e:\n",
    "    string_conn.rollback()\n"
   ]
  },
  {
   "cell_type": "code",
   "execution_count": 31,
   "metadata": {},
   "outputs": [
    {
     "name": "stdout",
     "output_type": "stream",
     "text": [
      "<cursor object at 0x7f549007d4f0; closed: 0>\n"
     ]
    }
   ],
   "source": [
    "try:\n",
    "    conn_cur.execute(\"select nextval('seq_proceso')\")\n",
    "    print(conn_cur)\n",
    "except (Exception, psycopg2.DatabaseError) as e:\n",
    "    print(e)"
   ]
  },
  {
   "cell_type": "code",
   "execution_count": null,
   "metadata": {},
   "outputs": [],
   "source": [
    "def Ejecuta_funcion(func):\n",
    "    def wrapper(*args, **kwargs):\n",
    "        inicio = time.process_time()\n",
    "        rta = func(*args, **kwargs)\n",
    "        fin = time.process_time()\n",
    "        duracion = fin - inicio\n",
    "        return (rta, duracion)\n",
    "    return wrapper\n",
    "\n"
   ]
  }
 ],
 "metadata": {
  "kernelspec": {
   "display_name": "Python 3",
   "language": "python",
   "name": "python3"
  },
  "language_info": {
   "codemirror_mode": {
    "name": "ipython",
    "version": 3
   },
   "file_extension": ".py",
   "mimetype": "text/x-python",
   "name": "python",
   "nbconvert_exporter": "python",
   "pygments_lexer": "ipython3",
   "version": "3.9.16"
  },
  "orig_nbformat": 4
 },
 "nbformat": 4,
 "nbformat_minor": 2
}
