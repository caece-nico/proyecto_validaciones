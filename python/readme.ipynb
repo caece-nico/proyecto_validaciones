{
 "cells": [
  {
   "attachments": {},
   "cell_type": "markdown",
   "metadata": {},
   "source": [
    "## *¿Cómo consulta la ip del servidor de docker para vincular postgresSQL con python?"
   ]
  },
  {
   "attachments": {},
   "cell_type": "markdown",
   "metadata": {},
   "source": [
    "Desde la terminal hacemos\n",
    "\n",
    "<code>Python\n",
    "docker inspect postgres_motor_run || grep 'ip\n",
    "</code>\n",
    "\n",
    " \"NetworkID\": \"159a5f08f7c5aec79291c7f4c6fab6996d011b126c6f71b8653cb45d8d520feb\", <br>\n",
    "                    \"EndpointID\": \"878dcce0381dd6b13083723a4da35ece3077af9b3f498f724a1e07fc9e9d16c5\", <br>\n",
    "                    \"Gateway\": \"172.30.0.1\", <br>\n",
    "                    \"IPAddress\": \"172.30.0.2\", <br>\n",
    "                    \"IPPrefixLen\": 16, <br>\n"
   ]
  },
  {
   "cell_type": "code",
   "execution_count": null,
   "metadata": {},
   "outputs": [],
   "source": []
  }
 ],
 "metadata": {
  "language_info": {
   "name": "python"
  },
  "orig_nbformat": 4
 },
 "nbformat": 4,
 "nbformat_minor": 2
}
